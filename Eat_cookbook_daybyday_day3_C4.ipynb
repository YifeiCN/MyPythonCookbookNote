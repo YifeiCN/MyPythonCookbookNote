{
 "cells": [
  {
   "cell_type": "markdown",
   "metadata": {},
   "source": [
    "## 4.1 手动访问迭代器中的元素\n",
    "\n",
    "问题：想处理某个可迭代对象中的元素，但是基于某种原因不能使用for循环\n",
    "\n",
    "解决方案：手动访问可迭代对象中的元素，可以使用`next()`函数，然后自己编写代码捕获StopItratin异常。"
   ]
  },
  {
   "cell_type": "markdown",
   "metadata": {},
   "source": [
    "## 4.2 委托迭代\n",
    "\n",
    "问题：我们构建了一个自定义的容器对象，内部持有一个列表、元组或其他可迭代对象。想让新容器完成迭代操作。\n",
    "\n",
    "解决方案：定义一个\\_\\_iter\\_\\_()方法，将迭代请求委托到对象内部持有的容器上。如下所示："
   ]
  },
  {
   "cell_type": "code",
   "execution_count": 1,
   "metadata": {},
   "outputs": [],
   "source": [
    "# example \n",
    "class Node:\n",
    "    def __init__(self, value):\n",
    "        self._value = value\n",
    "        self._children = []\n",
    "        \n",
    "    def __repr__(self):\n",
    "        return 'Node({!r})'.format(self._value)\n",
    "    \n",
    "    def add_child(self, node):\n",
    "        self._children.append(node)\n",
    "        \n",
    "    def __iter__(self):\n",
    "        return iter(self._children)"
   ]
  },
  {
   "cell_type": "markdown",
   "metadata": {},
   "source": [
    "Python的迭代协议要求\\_\\_iter\\_\\_()返回一个特殊的迭代器对象，有该对象实现的\\_\\_next\\_\\_()方法完成实际的迭代。如果要做的知识迭代另一个容器中的内容，我们不必担心底层细节如何工作，要做的是转发迭代请求。\n",
    "\n"
   ]
  },
  {
   "cell_type": "markdown",
   "metadata": {},
   "source": [
    "## 4.3 用生成器创建新的迭代模式\n",
    "\n",
    "问题： 我们想实现一个自定义的迭代模式，使其区别于常见的内建函数（如range(),reversed()等）。\n",
    "\n",
    "解决方案：可以使用生成器函数来定义新的迭代模式。可以使用for循环对其进行迭代，或通过其他可以访问可迭代对象中元素的函数，如sum()、list()等来使用。\n",
    "\n",
    "函数中只要出现了`yield`语句就会将其转变成一个生成器。与普通函数不同，生成器只会在相应迭代操作时才会运行。"
   ]
  },
  {
   "cell_type": "code",
   "execution_count": 1,
   "metadata": {},
   "outputs": [],
   "source": [
    "# example\n",
    "def Fabonacci(n):\n",
    "    a = 1\n",
    "    b = 1\n",
    "    i = 0\n",
    "    while True:\n",
    "        if i < n:\n",
    "            yield a\n",
    "            a, b = b, a + b\n",
    "            i += 1\n",
    "        else:\n",
    "            raise StopIteration"
   ]
  },
  {
   "cell_type": "code",
   "execution_count": 2,
   "metadata": {},
   "outputs": [
    {
     "name": "stdout",
     "output_type": "stream",
     "text": [
      "1\n",
      "1\n",
      "2\n",
      "3\n",
      "5\n"
     ]
    },
    {
     "ename": "RuntimeError",
     "evalue": "generator raised StopIteration",
     "output_type": "error",
     "traceback": [
      "\u001b[1;31m---------------------------------------------------------------------------\u001b[0m",
      "\u001b[1;31mStopIteration\u001b[0m                             Traceback (most recent call last)",
      "\u001b[1;32m<ipython-input-1-83367c1c1040>\u001b[0m in \u001b[0;36mFabonacci\u001b[1;34m(n)\u001b[0m\n\u001b[0;32m     11\u001b[0m         \u001b[1;32melse\u001b[0m\u001b[1;33m:\u001b[0m\u001b[1;33m\u001b[0m\u001b[1;33m\u001b[0m\u001b[0m\n\u001b[1;32m---> 12\u001b[1;33m             \u001b[1;32mraise\u001b[0m \u001b[0mStopIteration\u001b[0m\u001b[1;33m\u001b[0m\u001b[1;33m\u001b[0m\u001b[0m\n\u001b[0m",
      "\u001b[1;31mStopIteration\u001b[0m: ",
      "\nThe above exception was the direct cause of the following exception:\n",
      "\u001b[1;31mRuntimeError\u001b[0m                              Traceback (most recent call last)",
      "\u001b[1;32m<ipython-input-2-e26e8fbe6ffb>\u001b[0m in \u001b[0;36m<module>\u001b[1;34m\u001b[0m\n\u001b[1;32m----> 1\u001b[1;33m \u001b[1;32mfor\u001b[0m \u001b[0mi\u001b[0m \u001b[1;32min\u001b[0m \u001b[0mFabonacci\u001b[0m\u001b[1;33m(\u001b[0m\u001b[1;36m5\u001b[0m\u001b[1;33m)\u001b[0m\u001b[1;33m:\u001b[0m\u001b[1;33m\u001b[0m\u001b[1;33m\u001b[0m\u001b[0m\n\u001b[0m\u001b[0;32m      2\u001b[0m     \u001b[0mprint\u001b[0m\u001b[1;33m(\u001b[0m\u001b[0mi\u001b[0m\u001b[1;33m)\u001b[0m\u001b[1;33m\u001b[0m\u001b[1;33m\u001b[0m\u001b[0m\n",
      "\u001b[1;31mRuntimeError\u001b[0m: generator raised StopIteration"
     ]
    }
   ],
   "source": [
    "for i in Fabonacci(5):\n",
    "    print(i)"
   ]
  },
  {
   "cell_type": "markdown",
   "metadata": {},
   "source": [
    "## 4.4 实现迭代协议\n",
    "\n",
    "问题：构建自定义对象，我们希望它可以支持迭代操作，希望有一种简单的方式实现迭代协议。\n",
    "\n",
    "解决方案：在对象上实现可迭代功能，最简单的方式是使用生成器函数。"
   ]
  },
  {
   "cell_type": "markdown",
   "metadata": {},
   "source": [
    "## 4.5 反向迭代\n",
    "\n",
    "问题：反向迭代序列中的元素\n",
    "\n",
    "解决方案：使用内建的`reversed()`函数实现。"
   ]
  },
  {
   "cell_type": "code",
   "execution_count": 4,
   "metadata": {},
   "outputs": [
    {
     "name": "stdout",
     "output_type": "stream",
     "text": [
      "4\n",
      "3\n",
      "2\n",
      "1\n"
     ]
    }
   ],
   "source": [
    "# example\n",
    "a = [1,2,3,4]\n",
    "for v in reversed(a):\n",
    "    print(v)"
   ]
  },
  {
   "cell_type": "markdown",
   "metadata": {},
   "source": [
    "反向迭代只有待处理对象有确定的大小，或对象实现了\\_\\_reversed\\_\\_()特殊方法时才奏效。如果这两个条件都无法满足，必须先将这个对象转换为列表。"
   ]
  },
  {
   "cell_type": "markdown",
   "metadata": {},
   "source": [
    "## 4.6 定义带有额外状态的生成器函数\n",
    "\n",
    "问题：想定义一个生成器函数，但它还设计一些额外的状态，我们希望能以某种形式讲这些状态暴露给用户。\n",
    "\n",
    "解决方案："
   ]
  },
  {
   "cell_type": "markdown",
   "metadata": {},
   "source": [
    "## 4.7 对迭代器做切片操作\n",
    "\n",
    "问题：想对迭代器产生的数据做切片操作，但普通切片操作符在这里不管用。\n",
    "\n",
    "解决方案：使用`itertools.islice()`函数对迭代器和生成器做切片操作。"
   ]
  },
  {
   "cell_type": "code",
   "execution_count": 5,
   "metadata": {},
   "outputs": [],
   "source": [
    "# example\n",
    "import itertools\n",
    "\n",
    "def count(n):\n",
    "    while True:\n",
    "        yield n\n",
    "        n+=1\n",
    "        if n>20:\n",
    "            raise StopIteration"
   ]
  },
  {
   "cell_type": "code",
   "execution_count": 6,
   "metadata": {},
   "outputs": [],
   "source": [
    "a = count(3)"
   ]
  },
  {
   "cell_type": "code",
   "execution_count": 7,
   "metadata": {},
   "outputs": [
    {
     "name": "stdout",
     "output_type": "stream",
     "text": [
      "7\n",
      "8\n",
      "9\n"
     ]
    }
   ],
   "source": [
    "for x in itertools.islice(a, 4,7):\n",
    "    print(x)"
   ]
  },
  {
   "cell_type": "markdown",
   "metadata": {},
   "source": [
    "迭代器和生成器是没办法执行普通的切片操作的，因为不知道它们的长度是多少（而且它们也没有实现索引）。islice()产生的结果是一个迭代器，它可以产生出所需要的切片元素，这是通过**访问并丢弃所有起始索引之前的元素**实现的。之后的元素会由islice对象产生出来，直到到达结束索引为止。"
   ]
  },
  {
   "cell_type": "markdown",
   "metadata": {},
   "source": [
    "## 4.8 跳过可迭代对象中的前一部分元素\n",
    "\n",
    "问题：相对某个可迭代对象做迭代处理，但对前面几个元素不感兴趣，只想将它们丢弃掉。\n",
    "\n",
    "解决方案：`itertools.dropwhile()`函数可以解决这个问题，需要为其提供一个函数和一个可迭代对象。该函数返回的迭代器丢掉序列中的前几个元素"
   ]
  },
  {
   "cell_type": "markdown",
   "metadata": {},
   "source": [
    "## 4.9 迭代所有可能的组合或排列\n",
    "\n",
    "问题：想对一系列元素所有可能的元素进行排列或迭代\n",
    "\n",
    "解决方案："
   ]
  },
  {
   "cell_type": "markdown",
   "metadata": {},
   "source": [
    "## 4.10 以索引-值对的形式迭代序列\n",
    "\n",
    "问题：想迭代一个序列，但是又想记录下序列中当前处理到的元素索引\n",
    "\n",
    "解决方案：enumerate()函数"
   ]
  },
  {
   "cell_type": "markdown",
   "metadata": {},
   "source": [
    "## 4.11 同时迭代多个序列\n",
    "\n",
    "问题：我们想要迭代的元素包含在多个序列中，我们想同时对它们进行迭代。\n",
    "\n",
    "解决方案：使用`zip()`函数同时迭代多个序列"
   ]
  },
  {
   "cell_type": "code",
   "execution_count": 14,
   "metadata": {},
   "outputs": [
    {
     "name": "stdout",
     "output_type": "stream",
     "text": [
      "(x,y) = (1,5)\n",
      "(x,y) = (2,6)\n",
      "(x,y) = (3,7)\n",
      "(x,y) = (4,8)\n"
     ]
    }
   ],
   "source": [
    "# example\n",
    "xpts = [1, 2, 3, 4]\n",
    "ypts = [5, 6, 7, 8]\n",
    "for x, y in zip(xpts, ypts):\n",
    "    print(\"(x,y) = \" f'({x},{y})')"
   ]
  },
  {
   "cell_type": "markdown",
   "metadata": {},
   "source": [
    "zip(a, b)的工作原理是创建出一个**迭代器**，该迭代器可产生元组(x, y)，这里的x取自序列a，而y取自序列b。当其中某个输入序列中没有元素可以继续迭代时，整个迭代过程结束。因此整个迭代的长度和其中最短的输入序列长度相等。\n",
    "\n",
    "如果需要将配对的数据保存为列表，需要使用list()函数。"
   ]
  },
  {
   "cell_type": "markdown",
   "metadata": {},
   "source": [
    "## 4.12 在不同的容器中进行迭代\n",
    "\n",
    "问题：需要对许多对象执行相同的操作，但这些对象包含在不同的容器中，希望避免嵌套循环处理，保持代码的可读性。\n",
    "\n",
    "解决方案：itertools.chain()可以简化这个任务。它接受一系列可迭代对象作为输入并返回一个**迭代器**，该迭代器掩盖了一个事实：实际上在对多个容器进行迭代。该方法常用于一次性对所有元素执行某项特定操作，但这些元素分散在不同的集合中。该方法比将各序列合并后再迭代要更高效。"
   ]
  },
  {
   "cell_type": "code",
   "execution_count": 15,
   "metadata": {},
   "outputs": [
    {
     "name": "stdout",
     "output_type": "stream",
     "text": [
      "1\n",
      "2\n",
      "3\n",
      "a\n",
      "b\n",
      "c\n"
     ]
    }
   ],
   "source": [
    "# example \n",
    "from itertools import chain\n",
    "a = [1,2,3]\n",
    "b = ['a','b','c']\n",
    "for x in chain(a,b):\n",
    "    print(x)"
   ]
  },
  {
   "cell_type": "markdown",
   "metadata": {},
   "source": [
    "## 4.13 创建处理数据的管道\n",
    "\n",
    "问题：我们想以流水线式的形式对数据进行迭代处理。比方说我们有海量数据需要处理，但无法将其全部加载到内存中。\n",
    "\n",
    "解决方案：生成器函数是一种实现管道机制的好方法。"
   ]
  },
  {
   "cell_type": "code",
   "execution_count": 16,
   "metadata": {},
   "outputs": [],
   "source": [
    "# example\n"
   ]
  },
  {
   "cell_type": "markdown",
   "metadata": {},
   "source": [
    "## 4.14 扁平化处理嵌套型的序列\n",
    "\n",
    "问题：我们有一个嵌套形的序列，想将它扁平化处理为一列单独的值。\n",
    "\n",
    "解决方案：可以通过写一个带有yield from语句的递归生成器函数来解决。"
   ]
  },
  {
   "cell_type": "code",
   "execution_count": 23,
   "metadata": {},
   "outputs": [],
   "source": [
    "# example\n",
    "import collections\n",
    "\n",
    "def flatten(items, ignore_types=(str, bytes)):\n",
    "    for x in items:\n",
    "        if isinstance(x, Iterable) and not isinstance(x, ignore_types):\n",
    "            yield from flatten(x)\n",
    "        else:\n",
    "            yield x"
   ]
  },
  {
   "cell_type": "markdown",
   "metadata": {},
   "source": [
    "使用yield from将可迭代对象作为种子例程进行递归，将其所有值都产生出来。"
   ]
  },
  {
   "cell_type": "markdown",
   "metadata": {},
   "source": [
    "## 4.15 合并多个有序序列，再对整个有序序列进行迭代\n",
    "\n",
    "问题：有一组有序序列，想对它们合并在一起后的有序序列进行迭代。\n",
    "\n",
    "解决方案：使用`heapq.merge()`函数。"
   ]
  },
  {
   "cell_type": "code",
   "execution_count": 24,
   "metadata": {},
   "outputs": [
    {
     "name": "stdout",
     "output_type": "stream",
     "text": [
      "1\n",
      "2\n",
      "3\n",
      "4\n",
      "5\n",
      "6\n",
      "7\n",
      "8\n"
     ]
    }
   ],
   "source": [
    "# example\n",
    "import heapq\n",
    "a = [1, 2, 3, 4]\n",
    "b = [5, 6, 7, 8]\n",
    "for c in heapq.merge(a, b):\n",
    "    print(c)"
   ]
  },
  {
   "cell_type": "markdown",
   "metadata": {},
   "source": [
    "`heapq.merge()`的迭代性质意味着它对所有提供的序列都不会做一次性提取。意味着可以用它处理非常长的序列，而且内存开销非常小。\n",
    "\n",
    "注意：`heapq.merge()`要求所有输入序列都是有序的。他不会预先做任何排序工作。"
   ]
  }
 ],
 "metadata": {
  "kernelspec": {
   "display_name": "Python 3",
   "language": "python",
   "name": "python3"
  },
  "language_info": {
   "codemirror_mode": {
    "name": "ipython",
    "version": 3
   },
   "file_extension": ".py",
   "mimetype": "text/x-python",
   "name": "python",
   "nbconvert_exporter": "python",
   "pygments_lexer": "ipython3",
   "version": "3.7.4"
  }
 },
 "nbformat": 4,
 "nbformat_minor": 4
}
