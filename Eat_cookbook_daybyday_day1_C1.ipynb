{
 "cells": [
  {
   "cell_type": "markdown",
   "metadata": {},
   "source": [
    "# 第一章 数据结构与算法"
   ]
  },
  {
   "cell_type": "markdown",
   "metadata": {},
   "source": [
    "## 1.1 将序列分解为单独的变量\n",
    "\n",
    "问题：将包含N个元素的元组或序列分解为N个单独的变量。\n",
    "\n",
    "解决方案：任何序列（或可迭代的对象）都可以通过一个简单的赋值操作来分解为单独的变量。变量的总数、结构要和序列吻合。如果元素数量不匹配会报错。\n",
    "\n",
    "可迭代对象都可进行分解操作，如字符串、文件、迭代器、生成器。\n",
    "\n",
    "在分解操作时，若想丢弃某些特殊值，可以用`_`作为占位符\n",
    "\n",
    "例：\n"
   ]
  },
  {
   "cell_type": "code",
   "execution_count": 2,
   "metadata": {},
   "outputs": [
    {
     "name": "stdout",
     "output_type": "stream",
     "text": [
      "4 5\n"
     ]
    }
   ],
   "source": [
    "p = (4, 5,6)\n",
    "x, y,_ = p\n",
    "print(x,y)"
   ]
  },
  {
   "cell_type": "markdown",
   "metadata": {},
   "source": [
    "## 1.2 从任意长度的可迭代对象中分解元素\n",
    "\n",
    "问题：需要从某个可迭代的选项中分解出N个元素，但这个可迭代对象长度可能超过N，会导致“分解的值过多”的异常。\n",
    "\n",
    "解决方案：用“\\*表达式”。\n",
    "\n",
    "例："
   ]
  },
  {
   "cell_type": "code",
   "execution_count": 4,
   "metadata": {},
   "outputs": [],
   "source": [
    "# 未知grades包含多少个元素\n",
    "def drop_first_last(grades):\n",
    "    first, *middle, last = grades\n",
    "    return avg(m)"
   ]
  },
  {
   "cell_type": "code",
   "execution_count": 7,
   "metadata": {},
   "outputs": [
    {
     "name": "stdout",
     "output_type": "stream",
     "text": [
      "trailing: [0, 1, 2, 3, 4, 5, 6, 7, 8]\n"
     ]
    }
   ],
   "source": [
    "*trailing, current = range(10)\n",
    "print(\"trailing:\",trailing)"
   ]
  },
  {
   "cell_type": "markdown",
   "metadata": {},
   "source": [
    "## 1.3保存最后N个元素\n",
    "\n",
    "问题：保存有限的历史记录。\n",
    "\n",
    "解决方案：使用`collections.deque`。\n",
    "\n",
    "deque(maxlen=N)创建了一个固定长度的队列。有`append()``pop()``appendleft()``popleft()`等方法。\n",
    "\n",
    "**复杂度分析：**从列队两端添加或弹出元素的复杂度都是O(1)，而列表从头部插入或移出元素时复杂度是O(N)。\n"
   ]
  },
  {
   "cell_type": "code",
   "execution_count": null,
   "metadata": {},
   "outputs": [],
   "source": [
    "from collections import deque\n",
    "\n",
    "def search(lines, pattern, history=5):\n",
    "    previous_lines = deque(maxlen=history)\n",
    "    for line in lines:\n",
    "        if pattern in line:\n",
    "            yield line,previous_lines\n",
    "        previous_lines.append(line)\n",
    "        \n",
    "\n",
    "# Example use on a file\n",
    "if __name__ == \"__main__\":\n",
    "    with open('test.txt',w) as f:\n",
    "        for line,prevlines in search(f, 'python', 5):\n",
    "            for pline in prevlines:\n",
    "                print(pline,end='')\n",
    "            print(line,end='')\n",
    "            print('-'*20)"
   ]
  },
  {
   "cell_type": "markdown",
   "metadata": {},
   "source": [
    "## 1.4 找到最大或最小的N个元素\n",
    "\n",
    "解决方案：heapq模块中有两个函数`nlargest()`和`nsmallest()`。\n",
    "\n",
    "两个函数都可以接受一个参数key。\n",
    "\n",
    "注：可以通过`help(heapq)`查看文档。"
   ]
  },
  {
   "cell_type": "code",
   "execution_count": 19,
   "metadata": {},
   "outputs": [
    {
     "name": "stdout",
     "output_type": "stream",
     "text": [
      "[9, 8, 7]\n",
      "[0, 1, 2]\n",
      "[{'name': 'IBM', 'shares': 100, 'price': 91.1}, {'name': 'IBM', 'shares': 100, 'price': 91.1}, {'name': 'IBM', 'shares': 100, 'price': 91.1}]\n"
     ]
    }
   ],
   "source": [
    "import heapq\n",
    "\n",
    "nums = range(10)\n",
    "print(heapq.nlargest(3,nums))\n",
    "print(heapq.nsmallest(3,nums))\n",
    "\n",
    "portfolio = [\n",
    "    {'name':'IBM','shares':100,'price':91.1},\n",
    "    {'name':'IBM','shares':100,'price':91.1},\n",
    "    {'name':'IBM','shares':100,'price':91.1},\n",
    "    {'name':'IBM','shares':100,'price':91.1},\n",
    "    {'name':'IBM','shares':100,'price':91.1}\n",
    "]\n",
    "print(heapq.nlargest(3, portfolio, key=lambda s:s['price']))"
   ]
  },
  {
   "cell_type": "markdown",
   "metadata": {},
   "source": [
    "如果在寻找最大或最小的N个元素，且同集合中元素的总数相比，N很小，那么以下函数可以提供更好的性能。\n",
    "\n",
    "这些函数首先在底层将数据转化成列表，并且元素会以堆的顺序排列。如：\n",
    "\n",
    "堆最重要的性质是heap[0]总是最小的那个元素。接下来的元素可依次通过`heapq.heappop()`方法找到。\n",
    "\n",
    "当所要找的元素数量相对较小时，函数`nlargest()`和`nsmallest()`才是最适用的，如果只是想找到最大或最小元素"
   ]
  },
  {
   "cell_type": "code",
   "execution_count": 23,
   "metadata": {},
   "outputs": [
    {
     "name": "stdout",
     "output_type": "stream",
     "text": [
      "<class 'list'>\n",
      "[1, 8, 2, 23, 7, -4, 18, 23, 42, 37, 2, [1, 1]] \n",
      " [1, 8, 2, 23, 7, -4, 18, 23, 42, 37, 2, [1, 1]]\n",
      "[1, 8, 2, 23, 7, -4, 18, 23, 42, 37, 2, [1, 1]] \n",
      " [11, 8, 2, 23, 7, -4, 18, 23, 42, 37, 2, [1, 1]]\n",
      "[1, 8, 2, 23, 7, -4, 18, 23, 42, 37, 2, [11, 1]] \n",
      " [11, 8, 2, 23, 7, -4, 18, 23, 42, 37, 2, [11, 1]]\n"
     ]
    }
   ],
   "source": [
    "nums= [1,8,2,23,7,-4,18,23,42,37,2,[1,1]]\n",
    "print(type(nums))\n",
    "heap = list(nums)  # 浅复制，只复制对象中的引用\n",
    "heap2 = nums       # 引用\n",
    "print(heap,'\\n',heap2)\n",
    "nums[0]=11\n",
    "print(heap,'\\n',heap2)\n",
    "nums[-1][0]=11\n",
    "print(heap,'\\n',heap2)\n"
   ]
  },
  {
   "cell_type": "code",
   "execution_count": 28,
   "metadata": {},
   "outputs": [
    {
     "data": {
      "text/plain": [
       "[-4, 2, 1, 23, 7, 2, 18, 23, 42, 37, 8]"
      ]
     },
     "execution_count": 28,
     "metadata": {},
     "output_type": "execute_result"
    }
   ],
   "source": [
    "nums= [1,8,2,23,7,-4,18,23,42,37,2]\n",
    "heap = list(nums)\n",
    "heapq.heapify(heap)\n",
    "heap"
   ]
  },
  {
   "cell_type": "markdown",
   "metadata": {},
   "source": [
    "## 1.5 实现优先级队列\n",
    "\n",
    "优先级队列：想实现一个以给定优先级对元素排序的队列，并且每次pop操作都会返回优先级最高的那个元素。\n",
    "\n",
    "解决方案：\n"
   ]
  },
  {
   "cell_type": "code",
   "execution_count": null,
   "metadata": {},
   "outputs": [],
   "source": [
    "import heapq\n",
    "class PriorityQueue:\n",
    "    \n",
    "    def __init__(self):\n",
    "        self._queue = []\n",
    "        self._index = 0\n",
    "        \n",
    "    def push(self, item, priority):\n",
    "        # 队列以元组(-priority,index,item)的形式组成。priority是为了使不同优先级的元素排序，\n",
    "        # 变量index是为了将由相同优先级的元素以适当的顺序来排列\n",
    "        heapq.heappush(self._queue, (-priority, self._index, item ))\n",
    "        self._index += 1\n",
    "        \n",
    "    def pop(self):\n",
    "        return heapq.heappop(self._queue)[-1]"
   ]
  },
  {
   "cell_type": "markdown",
   "metadata": {},
   "source": [
    "## 1.6 在字典中将键映射到多个值上\n",
    "\n",
    "问题：想要一个 一键多值字典[multidict]。\n",
    "\n",
    "解决方案：字典是一种关联容器，每个键都映射到一个单独的值上。如果想让键映射到多个值，需要将这多个值保存到另一个容器如列表或者集合中。如果希望保留元素插入顺序，就用列表，如果希望消除重复元素，并且不在意他们的顺序，就用集合。例如：\n"
   ]
  },
  {
   "cell_type": "code",
   "execution_count": null,
   "metadata": {},
   "outputs": [],
   "source": [
    "d = {\n",
    "    'a' : [1, 2, 3]\n",
    "    'c' : [3, 5]\n",
    "}\n",
    "\n",
    "e = {\n",
    "    'b' : [4, 5]\n",
    "    'a' : [1, 8]\n",
    "}"
   ]
  },
  {
   "cell_type": "markdown",
   "metadata": {},
   "source": [
    "为能方便地创建这样的字典，可以利用collections模块中的defaultdict类。`defaultdict`的一个特点是它会自动初始化第一个值，这样只需关注添加元素即可。"
   ]
  },
  {
   "cell_type": "code",
   "execution_count": 43,
   "metadata": {},
   "outputs": [],
   "source": [
    "from collections import defaultdict"
   ]
  },
  {
   "cell_type": "code",
   "execution_count": 47,
   "metadata": {},
   "outputs": [],
   "source": [
    "d = defaultdict(list)\n",
    "d['a'].append(1)\n",
    "d['a'].append(2)\n",
    "\n",
    "\n",
    "d_set = defaultdict(set)\n",
    "d['a'].append(1)\n",
    "d['a'].append(1)\n",
    "d['a'].append(2)"
   ]
  },
  {
   "cell_type": "markdown",
   "metadata": {},
   "source": [
    "`defaultdict`会自动创建字典表项以待稍后访问（即使这些表项在当前字典中还没有找到）。如果不想要这个功能，可以在普通字典上调用`setdefault()`方法取代。如：\n",
    "\n",
    "存在问题：每次调用时都会创建一个初始值的新实例（例子中的空列表[]）。"
   ]
  },
  {
   "cell_type": "code",
   "execution_count": null,
   "metadata": {},
   "outputs": [],
   "source": [
    "d = dict() # A regular dictionary\n",
    "d.setdefault('a',[]).append(1)"
   ]
  },
  {
   "cell_type": "markdown",
   "metadata": {},
   "source": [
    "代码对比："
   ]
  },
  {
   "cell_type": "code",
   "execution_count": null,
   "metadata": {},
   "outputs": [],
   "source": [
    "d = dict()\n",
    "for key, value in pairs:\n",
    "    if key not in d:\n",
    "        d[key] = []\n",
    "    d[key].append(value)"
   ]
  },
  {
   "cell_type": "code",
   "execution_count": null,
   "metadata": {},
   "outputs": [],
   "source": [
    "d = defaultdict([])\n",
    "for key, value in pairs:\n",
    "    d[key].append(value)"
   ]
  },
  {
   "cell_type": "markdown",
   "metadata": {},
   "source": [
    "## 1.7 让字典保持有序\n",
    "\n",
    "问题：想创建一个字典，同时在对字典做迭代或序列化操作时，能控制其中元素的顺序。\n",
    "\n",
    "解决方案：**要严格控制字典中元素的顺序**，可以使用`collections`模块中的`OrderedDict`类。当对字典做迭代时，会严格按照元素**初始添加的顺序**进行。例如：\n",
    "\n",
    "用途：想构建一个映射结构以便稍后对其做序列化或编码成另一种格式。例如，想在进行JSON编码时精确控制各字段的顺序，只要首先在`OrderedDict`中构建数据就可以了。\n",
    "\n",
    "`OrderedDict`内部维护了一个**双向链表**，会根据元素加入的顺序来排列键的位置。第一个新加入的元素被放置在链表的末尾，接下来对已存在的键做重新赋值不会改变键的顺序。\n",
    "\n",
    "注意：`OrderedDict`的大小是普通字典的2倍多，这是由于它额外创建的链表导致的。因此，如果打算构建一个涉及大量`OrderedDict`实例的数据结构，如从CSV文件中读取1000,000行内容到`OrderedDict`列表中，需要对其带来的好处和额外的内存开销进行权衡。"
   ]
  },
  {
   "cell_type": "code",
   "execution_count": 51,
   "metadata": {},
   "outputs": [
    {
     "name": "stdout",
     "output_type": "stream",
     "text": [
      "1\n",
      "2\n",
      "3\n",
      "4\n"
     ]
    }
   ],
   "source": [
    "from collections import OrderedDict\n",
    "\n",
    "d = OrderedDict()\n",
    "d['k1'] = 1\n",
    "d['k2'] = 2\n",
    "d['k3'] = 3\n",
    "d['k4'] = 4\n",
    "\n",
    "for key in d:\n",
    "    print(d[key])"
   ]
  },
  {
   "cell_type": "markdown",
   "metadata": {},
   "source": [
    "与`dict()`对比："
   ]
  },
  {
   "cell_type": "code",
   "execution_count": 53,
   "metadata": {},
   "outputs": [
    {
     "name": "stdout",
     "output_type": "stream",
     "text": [
      "1\n",
      "2\n",
      "3\n",
      "4\n"
     ]
    }
   ],
   "source": [
    "d = dict()\n",
    "d['k1'] = 1\n",
    "d['k2'] = 2\n",
    "d['k3'] = 3\n",
    "d['k4'] = 4\n",
    "\n",
    "for key in d:\n",
    "    print(d[key])"
   ]
  },
  {
   "cell_type": "markdown",
   "metadata": {},
   "source": [
    "## 1.8 与字典有关的计算问题\n",
    "\n",
    "问题：我们想在字典上对数据执行各种各样的计算（如求最大、最小值，排序等）。\n",
    "\n",
    "解决方案：为对字典内容做些有用的计算，通常会利用`zip()`将字典的键和值反过来。\n",
    "\n",
    "注意：`zip()`创建了一个迭代器，它的内容只能被使用一次。\n",
    "\n",
    "注意：如果尝试在字典上执行常见的数据操作，将会发现它们只会处理键，不会处理值。"
   ]
  },
  {
   "cell_type": "code",
   "execution_count": 61,
   "metadata": {},
   "outputs": [],
   "source": [
    "# 假设有一个字典在股票名称和对应价格间做了映射：\n",
    "\n",
    "prices = {\n",
    "    'ACME': 45,\n",
    "    'AAPL': 33,\n",
    "    'IBM': 22,\n",
    "    'HPQ': 11\n",
    "}"
   ]
  },
  {
   "cell_type": "code",
   "execution_count": 64,
   "metadata": {},
   "outputs": [
    {
     "name": "stdout",
     "output_type": "stream",
     "text": [
      "min_price is: (11, 'HPQ')\n",
      "max_price is: (45, 'ACME')\n"
     ]
    }
   ],
   "source": [
    "# 如何找出价格最低和最高的股票\n",
    "\n",
    "min_price = min(zip(prices.values(), prices.keys()))\n",
    "print(\"min_price is:\",min_price)\n",
    "\n",
    "max_price = max(zip(prices.values(), prices.keys()))\n",
    "print(\"max_price is:\",max_price)"
   ]
  },
  {
   "cell_type": "code",
   "execution_count": 65,
   "metadata": {},
   "outputs": [
    {
     "name": "stdout",
     "output_type": "stream",
     "text": [
      "prices after sort: [(11, 'HPQ'), (22, 'IBM'), (33, 'AAPL'), (45, 'ACME')]\n"
     ]
    }
   ],
   "source": [
    "# 对数据进行排列\n",
    "\n",
    "prices_sorted = sorted(zip(prices.values(), prices.keys()))\n",
    "print(\"prices after sort:\", prices_sorted)"
   ]
  },
  {
   "cell_type": "code",
   "execution_count": 67,
   "metadata": {},
   "outputs": [
    {
     "name": "stdout",
     "output_type": "stream",
     "text": [
      "(11, 'HPQ')\n"
     ]
    },
    {
     "ename": "ValueError",
     "evalue": "max() arg is an empty sequence",
     "output_type": "error",
     "traceback": [
      "\u001b[1;31m---------------------------------------------------------------------------\u001b[0m",
      "\u001b[1;31mValueError\u001b[0m                                Traceback (most recent call last)",
      "\u001b[1;32m<ipython-input-67-2bccc2b03b3c>\u001b[0m in \u001b[0;36m<module>\u001b[1;34m\u001b[0m\n\u001b[0;32m      3\u001b[0m \u001b[0mprices_and_names\u001b[0m \u001b[1;33m=\u001b[0m \u001b[0mzip\u001b[0m\u001b[1;33m(\u001b[0m\u001b[0mprices\u001b[0m\u001b[1;33m.\u001b[0m\u001b[0mvalues\u001b[0m\u001b[1;33m(\u001b[0m\u001b[1;33m)\u001b[0m\u001b[1;33m,\u001b[0m \u001b[0mprices\u001b[0m\u001b[1;33m.\u001b[0m\u001b[0mkeys\u001b[0m\u001b[1;33m(\u001b[0m\u001b[1;33m)\u001b[0m\u001b[1;33m)\u001b[0m\u001b[1;33m\u001b[0m\u001b[1;33m\u001b[0m\u001b[0m\n\u001b[0;32m      4\u001b[0m \u001b[0mprint\u001b[0m\u001b[1;33m(\u001b[0m\u001b[0mmin\u001b[0m\u001b[1;33m(\u001b[0m\u001b[0mprices_and_names\u001b[0m\u001b[1;33m)\u001b[0m\u001b[1;33m)\u001b[0m\u001b[1;33m\u001b[0m\u001b[1;33m\u001b[0m\u001b[0m\n\u001b[1;32m----> 5\u001b[1;33m \u001b[0mprint\u001b[0m\u001b[1;33m(\u001b[0m\u001b[0mmax\u001b[0m\u001b[1;33m(\u001b[0m\u001b[0mprices_and_names\u001b[0m\u001b[1;33m)\u001b[0m\u001b[1;33m)\u001b[0m\u001b[1;33m\u001b[0m\u001b[1;33m\u001b[0m\u001b[0m\n\u001b[0m",
      "\u001b[1;31mValueError\u001b[0m: max() arg is an empty sequence"
     ]
    }
   ],
   "source": [
    "# 错误，多次使用 zip() 返回的迭代器\n",
    "\n",
    "prices_and_names = zip(prices.values(), prices.keys())\n",
    "print(min(prices_and_names))\n",
    "print(max(prices_and_names))"
   ]
  },
  {
   "cell_type": "code",
   "execution_count": 73,
   "metadata": {},
   "outputs": [
    {
     "name": "stdout",
     "output_type": "stream",
     "text": [
      "min prices: AAPL\n",
      "max prices: IBM\n",
      "min prices: 11\n",
      "max prices: 45\n",
      "HPQ\n",
      "ACME\n",
      "11\n"
     ]
    }
   ],
   "source": [
    "# 只处理键，不处理值\n",
    "print(\"min prices:\", min(prices))\n",
    "print(\"max prices:\", max(prices))\n",
    "\n",
    "# 如果想处理值，可以利用字典的 values() 方法\n",
    "print(\"min prices:\", min(prices.values()))\n",
    "print(\"max prices:\", max(prices.values()))\n",
    "\n",
    "# 如果想知道相应的键与关联的信息，可提供一个key参数传递给 min()和 max()\n",
    "print(min(prices, key=lambda k: prices[k]))\n",
    "print(max(prices, key=lambda k: prices[k]))\n",
    "\n",
    "# 想找到最小值还得再执行一次查找\n",
    "min_value = prices[min(prices, key=lambda k: prices[k])]\n",
    "print(min_value)"
   ]
  },
  {
   "cell_type": "code",
   "execution_count": 75,
   "metadata": {},
   "outputs": [
    {
     "data": {
      "text/plain": [
       "(11, 'zzz')"
      ]
     },
     "execution_count": 75,
     "metadata": {},
     "output_type": "execute_result"
    }
   ],
   "source": [
    "# 利用 zip()通过将字典的键值对“反转”为值-键对序列来解决问题。\n",
    "\n",
    "# 当涉及（value, key）对的比较时，如果碰巧多个条目有相同的value值，那么此时key将用来作为判定结果的依据。例如：\n",
    "\n",
    "prices2 = {\"AAA\":11, \"zzz\": 11}\n",
    "min(zip(prices2.values(), prices2.keys()))\n",
    "max(zip(prices2.values(), prices2.keys()))"
   ]
  },
  {
   "cell_type": "markdown",
   "metadata": {},
   "source": [
    "## 1.9 在两个字典中寻找相同点\n",
    "\n",
    "问题：想找出两个字典中相等的键或相等的值。\n",
    "\n",
    "tips：字典的keys()方法会返回key-view对象，其中暴露了所有的键，并支持常见的集合操作，比如求交、差、并集，不必先将其转化为集合。\n",
    "\n",
    "tips：字典的items()方法返回由(key, value)组成的item-view对象，这个对象支持类似集合操作，可用来完成找出两个字典间有哪些键值对相同的操作。\n",
    "\n",
    "tips: 字典的values()方法不支持集合操作。因为在字典中键和值是不同的。如果想对值实现特定集合操作，需先将值转化为集合。\n",
    "\n",
    "解决方案："
   ]
  },
  {
   "cell_type": "code",
   "execution_count": 82,
   "metadata": {},
   "outputs": [
    {
     "name": "stdout",
     "output_type": "stream",
     "text": [
      "Key in common: {'x'}\n",
      "Key in a but not in b: {'c', 'y'}\n",
      "(key,value) in common: {('x', 1)}\n"
     ]
    }
   ],
   "source": [
    "# 考虑如下两个字典：\n",
    "\n",
    "a = {'x': 1, 'y': 2, 'c': 3}\n",
    "b = {'x': 1, 'b': 3, 'd':3}\n",
    "\n",
    "# 可通过keys()方法或items()方法执行常见集合操作找出a与b相同的key或value：\n",
    "\n",
    "print(\"Key in common:\", a.keys() & b.keys())\n",
    "print(\"Key in a but not in b:\", a.keys() - b.keys())\n",
    "print(\"(key,value) in common:\", a.items() & b.items())"
   ]
  },
  {
   "cell_type": "markdown",
   "metadata": {},
   "source": [
    "## 1.10 从序列中移出重复项并且保持元素间顺序不变\n",
    "\n",
    "问题：想去除序列中重复出现的元素，并保持剩下的元素顺序不发生变化。\n",
    "\n",
    "解决方案：如果序列中的值是可哈希（hashable）的，那可以通过使用集合和生成器解决。如下：\n",
    "\n",
    "注：如果一个对象是可哈希的，那么在它的生存期内必须是不可变的，而且它需要有一个\\_\\_hash\\_\\_()方法。整数、浮点数、字符串、元组都是不可变的。"
   ]
  },
  {
   "cell_type": "code",
   "execution_count": null,
   "metadata": {},
   "outputs": [],
   "source": [
    "# 当序列中元素是hashable时，可以进行以下操作。\n",
    "\n",
    "def dedupe(items):\n",
    "    seen = set()\n",
    "    for item in items:\n",
    "        if item not in seen:\n",
    "            yield item\n",
    "            seen.add(item)\n",
    "            \n",
    "# 对于不可hash对象，不能进行上述操作， 修改如下。\n",
    "# key用于指定一个函数来将序列中的元素转换为可哈希类型，这么做是为了检测重复项\n",
    "\n",
    "def dedupe(items, key=None):\n",
    "    seen = set()\n",
    "    for item in items:\n",
    "        val = item if key is None else key(item)\n",
    "        if val not in seen:\n",
    "            yield item\n",
    "            seen.add(val)"
   ]
  },
  {
   "cell_type": "markdown",
   "metadata": {},
   "source": [
    "tips: 如果只是想去除重复项，可以通过构建集合的方式，但这种方式不能保证元素间顺序不变，得到的结果会被打乱。"
   ]
  },
  {
   "cell_type": "code",
   "execution_count": 83,
   "metadata": {},
   "outputs": [
    {
     "data": {
      "text/plain": [
       "{1, 2, 3}"
      ]
     },
     "execution_count": 83,
     "metadata": {},
     "output_type": "execute_result"
    }
   ],
   "source": [
    "a = [1, 1, 1, 2, 2, 2, 3]\n",
    "set(a)"
   ]
  },
  {
   "cell_type": "code",
   "execution_count": null,
   "metadata": {},
   "outputs": [],
   "source": []
  }
 ],
 "metadata": {
  "kernelspec": {
   "display_name": "Python 3",
   "language": "python",
   "name": "python3"
  },
  "language_info": {
   "codemirror_mode": {
    "name": "ipython",
    "version": 3
   },
   "file_extension": ".py",
   "mimetype": "text/x-python",
   "name": "python",
   "nbconvert_exporter": "python",
   "pygments_lexer": "ipython3",
   "version": "3.7.4"
  }
 },
 "nbformat": 4,
 "nbformat_minor": 2
}
