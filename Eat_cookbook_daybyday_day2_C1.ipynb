{
 "cells": [
  {
   "cell_type": "markdown",
   "metadata": {},
   "source": [
    "# 第一章 数据结构与算法"
   ]
  },
  {
   "cell_type": "markdown",
   "metadata": {},
   "source": [
    "## 1.11 对切片命名\n",
    "\n",
    "问题：面对硬编码切片索引无法阅读，想理清楚他们。\n",
    "\n",
    "解决方案： 假设有一些代码用来从字符串的固定位置中取出具体的数据，对他们命名：\n",
    "\n",
    "注：如果代码中有很多硬编码的索引值，可读性和可维护性都不好。"
   ]
  },
  {
   "cell_type": "code",
   "execution_count": null,
   "metadata": {},
   "outputs": [],
   "source": [
    "SHARES = slice(20, 32)\n",
    "PRICE = slice(40,48)\n",
    "\n",
    "cost = int(record[SHARES]) * float(recordd[PRICE])"
   ]
  },
  {
   "cell_type": "markdown",
   "metadata": {},
   "source": [
    "一般来说，内置的slice()函数会创建一个切片对象，可以用在任何允许进行切片操作的地方。例如："
   ]
  },
  {
   "cell_type": "code",
   "execution_count": 3,
   "metadata": {},
   "outputs": [
    {
     "name": "stdout",
     "output_type": "stream",
     "text": [
      "items[2:4]:   [2, 3]\n",
      "items[a]:     [2, 3]\n",
      "items: [0, 1, 7, 7, 7, 4, 5, 6]\n"
     ]
    }
   ],
   "source": [
    "items = [0, 1, 2, 3, 4, 5, 6]\n",
    "a = slice(2, 4)\n",
    "print(\"items[2:4]:  \", items[2:4])\n",
    "print(\"items[a]:    \", items[a])\n",
    "items[a] = [7, 7, 7]\n",
    "print(\"items:\", items)"
   ]
  },
  {
   "cell_type": "markdown",
   "metadata": {},
   "source": [
    "如果有一个slice对象的实例s，可以分别通过s.start、s.stop以及s.step属性获得该对象的信息。"
   ]
  },
  {
   "cell_type": "code",
   "execution_count": 6,
   "metadata": {},
   "outputs": [
    {
     "name": "stdout",
     "output_type": "stream",
     "text": [
      "s.start: 3\n",
      "s.step:  2\n"
     ]
    }
   ],
   "source": [
    "s = slice(3,7,2)\n",
    "print('s.start:',s.start)\n",
    "print('s.step: ',s.step)"
   ]
  },
  {
   "cell_type": "markdown",
   "metadata": {},
   "source": [
    " 还可以通过indices(size)方法将切片映射到特定大小的序列上。这会返回一个（start,stop,step）元组，所有制都已经恰当地限制在边界以内，当做索引操作的时候可避免出现IndexError异常。\n"
   ]
  },
  {
   "cell_type": "markdown",
   "metadata": {},
   "source": [
    "## 1.12 找出序列中出现次数最多的元素\n",
    "\n",
    "解决方案： `collections`模块中的`Counter`类是为此类问题设计的。其中的`most_common()`方法可以解决此问题。"
   ]
  },
  {
   "cell_type": "code",
   "execution_count": 16,
   "metadata": {},
   "outputs": [
    {
     "name": "stdout",
     "output_type": "stream",
     "text": [
      "top 3: [('b', 4), ('a', 3), ('c', 2)]\n"
     ]
    }
   ],
   "source": [
    "from collections import Counter\n",
    "\n",
    "words = ['a', 'a', 'a', 'b', 'b','b','b','c','c','d']\n",
    "word_counts = Counter(words)\n",
    "top_three = word_counts.most_common(3)\n",
    "print('top 3:', top_three)"
   ]
  },
  {
   "cell_type": "markdown",
   "metadata": {},
   "source": [
    "可给`Counter`对象提供任何可hash的对象序列作为输入。底层实现中，`Counter`是一个**字典**，在元素和它们出现次数之间做了映射。"
   ]
  },
  {
   "cell_type": "code",
   "execution_count": 18,
   "metadata": {},
   "outputs": [
    {
     "data": {
      "text/plain": [
       "3"
      ]
     },
     "execution_count": 18,
     "metadata": {},
     "output_type": "execute_result"
    }
   ],
   "source": [
    "word_counts['a']"
   ]
  },
  {
   "cell_type": "markdown",
   "metadata": {},
   "source": [
    "若想用word_counts同时统计words2，可以通过以下两种方法："
   ]
  },
  {
   "cell_type": "code",
   "execution_count": 19,
   "metadata": {},
   "outputs": [],
   "source": [
    "words2 = ['a', 'a', 'a', 'd','e']"
   ]
  },
  {
   "cell_type": "code",
   "execution_count": 20,
   "metadata": {},
   "outputs": [],
   "source": [
    "# 方法一\n",
    "for word in words2:\n",
    "    word_counts[word] +=1\n",
    "    \n",
    "# 方法二\n",
    "word_counts.update(words2)"
   ]
  },
  {
   "cell_type": "code",
   "execution_count": 21,
   "metadata": {},
   "outputs": [
    {
     "data": {
      "text/plain": [
       "Counter({'a': 9, 'b': 4, 'c': 2, 'd': 3, 'e': 2})"
      ]
     },
     "execution_count": 21,
     "metadata": {},
     "output_type": "execute_result"
    }
   ],
   "source": [
    "word_counts"
   ]
  },
  {
   "cell_type": "code",
   "execution_count": 23,
   "metadata": {},
   "outputs": [
    {
     "data": {
      "text/plain": [
       "Counter({'a': 3, 'b': 4, 'c': 2, 'd': 1})"
      ]
     },
     "execution_count": 23,
     "metadata": {},
     "output_type": "execute_result"
    }
   ],
   "source": [
    "word_counts2 = Counter(words)\n",
    "word_counts2"
   ]
  },
  {
   "cell_type": "markdown",
   "metadata": {},
   "source": [
    "`Counter`对象可进行各种数学运算"
   ]
  },
  {
   "cell_type": "code",
   "execution_count": 24,
   "metadata": {},
   "outputs": [
    {
     "data": {
      "text/plain": [
       "Counter({'a': 6, 'd': 2, 'e': 2})"
      ]
     },
     "execution_count": 24,
     "metadata": {},
     "output_type": "execute_result"
    }
   ],
   "source": [
    "word_counts - word_counts2"
   ]
  },
  {
   "cell_type": "code",
   "execution_count": 25,
   "metadata": {},
   "outputs": [
    {
     "data": {
      "text/plain": [
       "Counter({'a': 12, 'b': 8, 'c': 4, 'd': 4, 'e': 2})"
      ]
     },
     "execution_count": 25,
     "metadata": {},
     "output_type": "execute_result"
    }
   ],
   "source": [
    "word_counts + word_counts2"
   ]
  },
  {
   "cell_type": "markdown",
   "metadata": {},
   "source": [
    "## 1.13 通过公共键对字典列表排序\n",
    "\n",
    "问题：对于已有的**字典**列表，想根据一个或多个字典中的值对列表排序。\n",
    "\n",
    "解决方案：利用`operator`模块中的`itemgetter`函数对这类结构进行排序。例如我们有以下数据结构：\n"
   ]
  },
  {
   "cell_type": "code",
   "execution_count": 28,
   "metadata": {},
   "outputs": [],
   "source": [
    "rows = [\n",
    "    {'fname':'aaa','lname':'qqq','uid':444},\n",
    "    {'fname':'ccc','lname':'eee','uid':333},\n",
    "    {'fname':'ddd','lname':'rrr','uid':222},\n",
    "    {'fname':'eee','lname':'ppp','uid':111}\n",
    "]"
   ]
  },
  {
   "cell_type": "markdown",
   "metadata": {},
   "source": [
    "根据所有字典中**共有的字段**对其进行排序：\n"
   ]
  },
  {
   "cell_type": "code",
   "execution_count": 29,
   "metadata": {},
   "outputs": [
    {
     "name": "stdout",
     "output_type": "stream",
     "text": [
      "fname:   [{'fname': 'aaa', 'lname': 'qqq', 'uid': 444}, {'fname': 'ccc', 'lname': 'eee', 'uid': 333}, {'fname': 'ddd', 'lname': 'rrr', 'uid': 222}, {'fname': 'eee', 'lname': 'ppp', 'uid': 111}]\n",
      "uid:     [{'fname': 'eee', 'lname': 'ppp', 'uid': 111}, {'fname': 'ddd', 'lname': 'rrr', 'uid': 222}, {'fname': 'ccc', 'lname': 'eee', 'uid': 333}, {'fname': 'aaa', 'lname': 'qqq', 'uid': 444}]\n"
     ]
    }
   ],
   "source": [
    "from operator import itemgetter\n",
    "\n",
    "rows_by_fname = sorted(rows, key = itemgetter('fname'))\n",
    "rows_by_uid = sorted(rows, key = itemgetter('uid'))\n",
    "\n",
    "print(\"fname:  \", rows_by_fname)\n",
    "print(\"uid:    \", rows_by_uid)"
   ]
  },
  {
   "cell_type": "markdown",
   "metadata": {},
   "source": [
    "`itemgetter()`函数还可以接受多个键。如："
   ]
  },
  {
   "cell_type": "code",
   "execution_count": 30,
   "metadata": {},
   "outputs": [
    {
     "name": "stdout",
     "output_type": "stream",
     "text": [
      "lfname:    [{'fname': 'ccc', 'lname': 'eee', 'uid': 333}, {'fname': 'eee', 'lname': 'ppp', 'uid': 111}, {'fname': 'aaa', 'lname': 'qqq', 'uid': 444}, {'fname': 'ddd', 'lname': 'rrr', 'uid': 222}]\n"
     ]
    }
   ],
   "source": [
    "rows_by_lfname = sorted(rows, key=itemgetter('lname','fname'))\n",
    "print(\"lfname:   \", rows_by_lfname)"
   ]
  },
  {
   "cell_type": "markdown",
   "metadata": {},
   "source": [
    "上例中，rows被传递给内建函数`sorted()`，该函数接受一个关键字参数key。这个参数应该代表一个可调用对象（callable），该对象从rows中接受一个**单独的元素**作为输入并返回一个用来做排序依据的值。`itemgetter()`函数创建的就是这样一个可调用对象。\n",
    "\n",
    "\n",
    "函数`operator.itemgetter()`接受的参数可作为查询的标记，用来从rows的记录中提取出所需的值。它可以是任何可以传递个对象的`\\_\\_getitem()\\_\\_`方法的值。如果传递多个标记给`itemgetter()`，那么它产生的可调用对象将返回一个包含所有元素在内的元组。\n",
    "\n",
    "有时可用**lambda**表达式取代`itemgetter()`的功能(用`itemgetter()`的方法会运行的更快一点）："
   ]
  },
  {
   "cell_type": "code",
   "execution_count": null,
   "metadata": {},
   "outputs": [],
   "source": [
    "rows_by_fname = sorted(rows, key = lambda r: r['fname'])\n",
    "rows_by_lfname = sorted(rows, key = lambda r: (r['lname'], r['fname']))"
   ]
  },
  {
   "cell_type": "markdown",
   "metadata": {},
   "source": [
    "## 1.14 对不原生支持比较操作的对象排序\n",
    "\n",
    "问题：想在同一个**类**的实例之间做排序，但它们不原生支持比较操作。\n",
    "\n",
    "解决方案：内建的`sorted()`函数可接受一个用来传递可调用对象（callable）的参数key，而该可调用对象会返回待排序对象中的某些值，sorted利用这些值来比较对象。例如："
   ]
  },
  {
   "cell_type": "code",
   "execution_count": 35,
   "metadata": {},
   "outputs": [],
   "source": [
    "class User:\n",
    "    def __init__(self, user_id):\n",
    "        self.user_id = user_id\n",
    "    \n",
    "    def __repr__(self):\n",
    "        return 'User({})'.format(self.user_id)    "
   ]
  },
  {
   "cell_type": "code",
   "execution_count": 36,
   "metadata": {},
   "outputs": [
    {
     "data": {
      "text/plain": [
       "[User(23), User(3), User(4)]"
      ]
     },
     "execution_count": 36,
     "metadata": {},
     "output_type": "execute_result"
    }
   ],
   "source": [
    "# 想通过user_id属性对他们的实例进行排序\n",
    "user = [User(23), User(3), User(4)]\n",
    "user"
   ]
  },
  {
   "cell_type": "code",
   "execution_count": 37,
   "metadata": {},
   "outputs": [
    {
     "data": {
      "text/plain": [
       "[User(3), User(4), User(23)]"
      ]
     },
     "execution_count": 37,
     "metadata": {},
     "output_type": "execute_result"
    }
   ],
   "source": [
    "sorted(user, key = lambda x: x.user_id)"
   ]
  },
  {
   "cell_type": "markdown",
   "metadata": {},
   "source": [
    "或使用`operator.attrgetter('user_id')`"
   ]
  },
  {
   "cell_type": "code",
   "execution_count": 38,
   "metadata": {},
   "outputs": [],
   "source": [
    "from operator import attrgetter"
   ]
  },
  {
   "cell_type": "code",
   "execution_count": 41,
   "metadata": {},
   "outputs": [
    {
     "data": {
      "text/plain": [
       "[User(3), User(4), User(23)]"
      ]
     },
     "execution_count": 41,
     "metadata": {},
     "output_type": "execute_result"
    }
   ],
   "source": [
    "sorted(user, key =attrgetter('user_id'))"
   ]
  },
  {
   "cell_type": "markdown",
   "metadata": {},
   "source": [
    "## 1.15 根据字段将记录分组\n",
    "\n",
    "问题： 有一系列**字典或对象实例**，想根据某个特定的字段来分组迭代数据。\n",
    "\n",
    "解决方案：`itertools.groupby()`函数在对数据进行分组时特别有用。如下："
   ]
  },
  {
   "cell_type": "code",
   "execution_count": 52,
   "metadata": {},
   "outputs": [],
   "source": [
    "# 假设有如下字典列表\n",
    "rows = [\n",
    "    {'address':'1111','date':'d7777'},\n",
    "    {'address':'2222','date':'d6666'},\n",
    "    {'address':'3333','date':'d5555'},\n",
    "    {'address':'4444','date':'d4444'},\n",
    "    {'address':'5555','date':'d3333'},\n",
    "    {'address':'6666','date':'d1111'},\n",
    "    {'address':'7777','date':'d1111'}\n",
    "]"
   ]
  },
  {
   "cell_type": "markdown",
   "metadata": {},
   "source": [
    "假设想根据日期以分组的方式迭代数据。首先以目标字段（如上中的date）对序列排序，然后使用`itertools.groupby()`。"
   ]
  },
  {
   "cell_type": "code",
   "execution_count": 53,
   "metadata": {},
   "outputs": [
    {
     "name": "stdout",
     "output_type": "stream",
     "text": [
      "date:   d1111\n",
      "items:  <itertools._grouper object at 0x000001EA85CA35C8>\n",
      "||  {'address': '6666', 'date': 'd1111'}\n",
      "||  {'address': '7777', 'date': 'd1111'}\n",
      "date:   d3333\n",
      "items:  <itertools._grouper object at 0x000001EA85C1B9C8>\n",
      "||  {'address': '5555', 'date': 'd3333'}\n",
      "date:   d4444\n",
      "items:  <itertools._grouper object at 0x000001EA85AAB988>\n",
      "||  {'address': '4444', 'date': 'd4444'}\n",
      "date:   d5555\n",
      "items:  <itertools._grouper object at 0x000001EA85C1B9C8>\n",
      "||  {'address': '3333', 'date': 'd5555'}\n",
      "date:   d6666\n",
      "items:  <itertools._grouper object at 0x000001EA85AABE08>\n",
      "||  {'address': '2222', 'date': 'd6666'}\n",
      "date:   d7777\n",
      "items:  <itertools._grouper object at 0x000001EA85C1B9C8>\n",
      "||  {'address': '1111', 'date': 'd7777'}\n"
     ]
    }
   ],
   "source": [
    "from operator import itemgetter\n",
    "from itertools import groupby\n",
    "\n",
    "# sort by the desired field first\n",
    "rows.sort(key=itemgetter('date'))\n",
    "\n",
    "# iterate in groups\n",
    "for date, items in groupby(rows, key = itemgetter('date')):\n",
    "    print(\"date:  \", date)\n",
    "    print(\"items: \", items)\n",
    "    \n",
    "    for i in items:\n",
    "        print('|| ', i)"
   ]
  },
  {
   "cell_type": "markdown",
   "metadata": {},
   "source": [
    "`groupby()`函数通过扫描序列找出拥有相同值（或由参数key指定的函数所返回的值）的序列项，并将其分组。\n",
    "\n",
    "`groupby()`函数创建了一个迭代器，每次迭代时都会返回一个值(value)和一个子迭代器(sub_iterator)，这个子迭代器可以产生所有在该分组内具有该值的项。\n",
    "\n",
    "对于上例来说，`date`是返回的值，`item`是返回的sub_iterator，其包含了`date`为相同值的项。\n",
    "\n",
    "注意：`groupby()`只能检查连续的项，所有需要先根据感兴趣的字段对数据进行排序，如果不排序，将无法按所想的方式对记录分组。\n",
    "\n",
    "如果只想简单地根据日期将数据分组到一起，放进一个大的数据结构中以允许随机访问，那么利用`defaultdict()`构建一个一键多值的字典(multidict)可能会更好，如：\n"
   ]
  },
  {
   "cell_type": "code",
   "execution_count": 54,
   "metadata": {},
   "outputs": [],
   "source": [
    "from collections import defaultdict\n",
    "rows_by_date = defaultdict(list)\n",
    "for row in rows:\n",
    "    rows_by_date[row['date']].append(row)"
   ]
  },
  {
   "cell_type": "code",
   "execution_count": 55,
   "metadata": {},
   "outputs": [
    {
     "data": {
      "text/plain": [
       "defaultdict(list,\n",
       "            {'d1111': [{'address': '6666', 'date': 'd1111'},\n",
       "              {'address': '7777', 'date': 'd1111'}],\n",
       "             'd3333': [{'address': '5555', 'date': 'd3333'}],\n",
       "             'd4444': [{'address': '4444', 'date': 'd4444'}],\n",
       "             'd5555': [{'address': '3333', 'date': 'd5555'}],\n",
       "             'd6666': [{'address': '2222', 'date': 'd6666'}],\n",
       "             'd7777': [{'address': '1111', 'date': 'd7777'}]})"
      ]
     },
     "execution_count": 55,
     "metadata": {},
     "output_type": "execute_result"
    }
   ],
   "source": [
    "rows_by_date"
   ]
  },
  {
   "cell_type": "markdown",
   "metadata": {},
   "source": [
    "如果不考虑内存方面的因素，这种方式比先排序再`groupby()`迭代要来的更快。"
   ]
  },
  {
   "cell_type": "markdown",
   "metadata": {},
   "source": [
    "## 1.16 筛选序列中的元素\n",
    "\n",
    "问题：序列中含有一些数据，我们需要提取出其中的值或根据某些标准对序列做删减。\n",
    "\n",
    "解决方案：筛选数据最简单的方法就是使用列表推导式（list comprehension）。如：\n"
   ]
  },
  {
   "cell_type": "code",
   "execution_count": 56,
   "metadata": {},
   "outputs": [
    {
     "data": {
      "text/plain": [
       "[1, 3, 4, 5]"
      ]
     },
     "execution_count": 56,
     "metadata": {},
     "output_type": "execute_result"
    }
   ],
   "source": [
    "my_list = [1,3,-3,4,5,-9]\n",
    "[n for n in my_list if n>0]"
   ]
  },
  {
   "cell_type": "markdown",
   "metadata": {},
   "source": [
    "使用列表推导式的潜在缺点是如果原始输入非常大，这么做可能会产生一个庞大的结果。可以使用生成器表达式通过迭代的方式筛选结果。如：\n"
   ]
  },
  {
   "cell_type": "code",
   "execution_count": 57,
   "metadata": {},
   "outputs": [],
   "source": [
    "pos = (n for n in my_list if n>0)\n"
   ]
  },
  {
   "cell_type": "code",
   "execution_count": 58,
   "metadata": {},
   "outputs": [
    {
     "data": {
      "text/plain": [
       "<generator object <genexpr> at 0x000001EA856F8448>"
      ]
     },
     "execution_count": 58,
     "metadata": {},
     "output_type": "execute_result"
    }
   ],
   "source": [
    "pos"
   ]
  },
  {
   "cell_type": "code",
   "execution_count": 59,
   "metadata": {},
   "outputs": [
    {
     "name": "stdout",
     "output_type": "stream",
     "text": [
      "1\n",
      "3\n",
      "4\n",
      "5\n"
     ]
    }
   ],
   "source": [
    "for x in pos:\n",
    "    print(x)"
   ]
  },
  {
   "cell_type": "markdown",
   "metadata": {},
   "source": [
    "如果筛选的标准没办法简单地表示在列表推导式或者生成器表达式中，如筛选过程设计异常处理或其他一些复杂的细节，可以将处理筛选逻辑的代码放到单独的函数中，然后使用内建的filter()函数处理。如：\n",
    "\n",
    "`filter()`创建了一个迭代器。"
   ]
  },
  {
   "cell_type": "code",
   "execution_count": 60,
   "metadata": {},
   "outputs": [
    {
     "name": "stdout",
     "output_type": "stream",
     "text": [
      "['1', '2', '4', '-2']\n"
     ]
    }
   ],
   "source": [
    "values = ['1', '2', '4', '-2', 'N/A']\n",
    "def is_int(val):\n",
    "    try:\n",
    "        x = int(val)\n",
    "        return True\n",
    "    except ValueError:\n",
    "        return False\n",
    "    \n",
    "ivals = list(filter(is_int, values))\n",
    "print(ivals)"
   ]
  },
  {
   "cell_type": "markdown",
   "metadata": {},
   "source": [
    "另一个有用的筛选工具`itertools.compress()`，可以把对一个序列的筛选结果是加到另一个相关的序列上。"
   ]
  },
  {
   "cell_type": "code",
   "execution_count": 62,
   "metadata": {},
   "outputs": [
    {
     "data": {
      "text/plain": [
       "['444']"
      ]
     },
     "execution_count": 62,
     "metadata": {},
     "output_type": "execute_result"
    }
   ],
   "source": [
    "from itertools import compress\n",
    "addresses = [\n",
    "    '111',\n",
    "    '222',\n",
    "    '333',\n",
    "    '444'\n",
    "]\n",
    "counts = [0,1,0,3]\n",
    "# 想构建一个地址列表，其中相应的count值大于2：\n",
    "mask = [n>2 for n in counts]\n",
    "list(compress(addresses, mask))"
   ]
  },
  {
   "cell_type": "markdown",
   "metadata": {},
   "source": [
    "关键在于创建一个布尔序列`mask`，用来表示哪个元素满足我们的条件。然后`compress()`函数挑选出满足布尔值为True的相应元素。\n",
    "\n",
    "`compress()`会返回一个迭代器，可以使用`list()`将结果转为列表。"
   ]
  },
  {
   "cell_type": "markdown",
   "metadata": {},
   "source": [
    "## 从字典提取子集\n",
    "\n",
    "问题： 想从另一个字典创建一个子集\n",
    "\n",
    "解决方案：利用字典推导式（dict comprehension）:"
   ]
  },
  {
   "cell_type": "code",
   "execution_count": 65,
   "metadata": {},
   "outputs": [
    {
     "name": "stdout",
     "output_type": "stream",
     "text": [
      "p1: {'c': 33, 'd': 44}\n",
      "p2: {'a': 11, 'b': 22}\n"
     ]
    }
   ],
   "source": [
    "prices = {\n",
    "    'a':11,\n",
    "    'b':22,\n",
    "    'c':33,\n",
    "    'd':44\n",
    "}\n",
    "p1 = {key:value for key,value in prices.items() if value>24}\n",
    "mask= ['a','b']\n",
    "p2 = {key:value for key,value in prices.items() if key in mask}\n",
    "print(\"p1:\",p1)\n",
    "print(\"p2:\",p2)"
   ]
  },
  {
   "cell_type": "markdown",
   "metadata": {},
   "source": [
    "大部分可以利用字典推导解决的问题也可以通过创建元组序列然后将它们传递给`dict()`函数来完成，如：\n",
    "\n",
    "注意：字典推导的方案运行更快。"
   ]
  },
  {
   "cell_type": "code",
   "execution_count": 67,
   "metadata": {},
   "outputs": [
    {
     "name": "stdout",
     "output_type": "stream",
     "text": [
      "p3:  {'c': 33, 'd': 44}\n"
     ]
    }
   ],
   "source": [
    "p3 = dict((key, value) for key,value in prices.items() if value>24)\n",
    "print(\"p3: \",p3)"
   ]
  },
  {
   "cell_type": "markdown",
   "metadata": {},
   "source": [
    "## 1.18 将名称映射到序列的元素中\n",
    "\n",
    "问题：我们的代码是通过为止（索引，即下标）来访问列表或元组的，这样的问题是有时会使代码变得难以阅读。我们希望可以通过名称来访问元素，减少结构中对位置的依赖性。\n",
    "\n",
    "解决方案：相比普通元组，`collections.namedtuple()`（命名元组）只增加了**极小的开销**就提供了这些便利。实际上，`collections.namedtuple()`是一个工厂方法，它返回的是Python中标准元组类型的子类。我们为其提供一个类型名称以及相应的字段，它就返回一个可实例化的类、已经定义好的字段传入值等。 例如：\n"
   ]
  },
  {
   "cell_type": "code",
   "execution_count": 68,
   "metadata": {},
   "outputs": [
    {
     "name": "stdout",
     "output_type": "stream",
     "text": [
      "Subscriber1(addr='as@qq.com', joined='2121')\n"
     ]
    }
   ],
   "source": [
    "from collections import namedtuple\n",
    "Subscriber = namedtuple('Subscriber1',['addr','joined'])\n",
    "sub = Subscriber('as@qq.com','2121')\n",
    "print(sub)"
   ]
  },
  {
   "cell_type": "markdown",
   "metadata": {},
   "source": [
    "`namedtuple`的实例看起来就像一个普通的类实例，但它的实例与普通的元组可以互换，而且支持所有普通元组所支持的操作，如索引(indexing)和分解(unpacking)，如："
   ]
  },
  {
   "cell_type": "code",
   "execution_count": 69,
   "metadata": {},
   "outputs": [
    {
     "data": {
      "text/plain": [
       "2"
      ]
     },
     "execution_count": 69,
     "metadata": {},
     "output_type": "execute_result"
    }
   ],
   "source": [
    "len(sub)"
   ]
  },
  {
   "cell_type": "code",
   "execution_count": 70,
   "metadata": {},
   "outputs": [
    {
     "name": "stdout",
     "output_type": "stream",
     "text": [
      "addr:as@qq.com,sub:2121\n"
     ]
    }
   ],
   "source": [
    "addr, joined = sub\n",
    "print(f\"addr:{addr},sub:{joined}\")"
   ]
  },
  {
   "cell_type": "markdown",
   "metadata": {},
   "source": [
    "命名元组的作用：将代码同它所控制的元素位置间解耦。"
   ]
  },
  {
   "cell_type": "markdown",
   "metadata": {},
   "source": [
    "讨论：`namedtuple`的一种可能用法是作为字典的替代，后者需要更多的空间来存储。因此，如果要构建设计字典的大型数据结构，使用`namedtuple`会更加高效。但是同字典不同的是，`namedtuple`是不可变的(immutable)。如：\n"
   ]
  },
  {
   "cell_type": "code",
   "execution_count": 71,
   "metadata": {},
   "outputs": [],
   "source": [
    "s = Subscriber('bbb@qq.com','2020')"
   ]
  },
  {
   "cell_type": "code",
   "execution_count": 72,
   "metadata": {},
   "outputs": [
    {
     "ename": "AttributeError",
     "evalue": "can't set attribute",
     "output_type": "error",
     "traceback": [
      "\u001b[1;31m---------------------------------------------------------------------------\u001b[0m",
      "\u001b[1;31mAttributeError\u001b[0m                            Traceback (most recent call last)",
      "\u001b[1;32m<ipython-input-72-8fa477ecf156>\u001b[0m in \u001b[0;36m<module>\u001b[1;34m\u001b[0m\n\u001b[1;32m----> 1\u001b[1;33m \u001b[0ms\u001b[0m\u001b[1;33m.\u001b[0m\u001b[0mjoined\u001b[0m \u001b[1;33m=\u001b[0m \u001b[1;34m'2021'\u001b[0m\u001b[1;33m\u001b[0m\u001b[1;33m\u001b[0m\u001b[0m\n\u001b[0m",
      "\u001b[1;31mAttributeError\u001b[0m: can't set attribute"
     ]
    }
   ],
   "source": [
    "s.joined = '2021'"
   ]
  },
  {
   "cell_type": "markdown",
   "metadata": {},
   "source": [
    "如果想修改任何属性，可以通过使用`namedtuple`实例的`_replace()`方法来实现。该方法会创建一个`全新的命名元组`，并对相应值做替换。如下："
   ]
  },
  {
   "cell_type": "code",
   "execution_count": 75,
   "metadata": {},
   "outputs": [
    {
     "data": {
      "text/plain": [
       "Subscriber1(addr='bbb@qq.com', joined='2021')"
      ]
     },
     "execution_count": 75,
     "metadata": {},
     "output_type": "execute_result"
    }
   ],
   "source": [
    "s._replace(joined='2021')"
   ]
  },
  {
   "cell_type": "markdown",
   "metadata": {},
   "source": [
    "## 1.19 同时对数据做转换和换算\n",
    "\n",
    "问题： 我们需要用一个换算(reduction)函数(如sum()、min()、max())，首先得对数据做转换或筛选。\n",
    "\n",
    "解决方案：将数据换算和转换结合在一起，在函数参数中使用生成器表达式。如："
   ]
  },
  {
   "cell_type": "code",
   "execution_count": 77,
   "metadata": {},
   "outputs": [],
   "source": [
    "# 计算平方和\n",
    "nums = [1, 2, 3, 4, 5]\n",
    "s = sum(x * x for x in nums)"
   ]
  },
  {
   "cell_type": "markdown",
   "metadata": {},
   "source": [
    "基于生成器的解决方案可以以迭代的方式转换数据，因此在内存使用上高效更多。"
   ]
  },
  {
   "cell_type": "markdown",
   "metadata": {},
   "source": [
    "## 1.20 将多个映射合并为单个映射\n",
    "\n",
    "问题： 有多个字典或映射，想在逻辑上将它们合并为一个单独的映射结构，以执行特定操作，比如查找值或检查键是否存在。\n",
    "\n",
    "解决方案：利用`collections`模块中的`ChainMap`类来解决这个问题。如：\n"
   ]
  },
  {
   "cell_type": "code",
   "execution_count": 78,
   "metadata": {},
   "outputs": [
    {
     "name": "stdout",
     "output_type": "stream",
     "text": [
      "1\n",
      "2\n",
      "3\n"
     ]
    }
   ],
   "source": [
    "# 有两个字典：\n",
    "a = {'x':1, 'z':3}\n",
    "b = {'y':2, 'z':4}\n",
    "\n",
    "from collections import ChainMap\n",
    "c = ChainMap(a,b)\n",
    "print(c['x'])\n",
    "print(c['y'])\n",
    "print(c['z'])"
   ]
  },
  {
   "cell_type": "markdown",
   "metadata": {},
   "source": [
    "`ChainMap`可接受多个映射然后在逻辑上使它们表现为一个单独的映射结构。但这些映射在字面上不会合并在一起。相反，`ChainMap`只是简单地维护一个记录底层映射关系的**列表**，然后重新定义常见的字典操作来扫描这个列表。大部分的操作都能正常工作，如："
   ]
  },
  {
   "cell_type": "code",
   "execution_count": 81,
   "metadata": {},
   "outputs": [
    {
     "name": "stdout",
     "output_type": "stream",
     "text": [
      "len: 3\n",
      "list(c.keys()): ['y', 'z', 'x']\n"
     ]
    }
   ],
   "source": [
    "print('len:',len(c))\n",
    "print('list(c.keys()):',list(c.keys()))\n"
   ]
  },
  {
   "cell_type": "markdown",
   "metadata": {},
   "source": [
    "如果有重复的键，那么会采用第一个映射中对应的值。"
   ]
  },
  {
   "cell_type": "markdown",
   "metadata": {},
   "source": [
    "另一种解决方案：使用字典的`update()`方法将多个字典合并在一起。例如：\n"
   ]
  },
  {
   "cell_type": "code",
   "execution_count": 82,
   "metadata": {},
   "outputs": [
    {
     "name": "stdout",
     "output_type": "stream",
     "text": [
      "{'y': 2, 'z': 3, 'x': 1}\n"
     ]
    }
   ],
   "source": [
    "merged = dict(b)\n",
    "merged.update(a)\n",
    "print(merged)"
   ]
  },
  {
   "cell_type": "markdown",
   "metadata": {},
   "source": [
    "注意：`ChainMap`使用的是原始字典，如果通过`ChainMap`改变了键的值，那么在原始字典也会有改变。但后一种解决方法是单独构建了一个完整的字典对象，通过`update()`方法仅改变了新建的这个对象，对原字典不会改变。"
   ]
  },
  {
   "cell_type": "code",
   "execution_count": null,
   "metadata": {},
   "outputs": [],
   "source": []
  }
 ],
 "metadata": {
  "kernelspec": {
   "display_name": "Python 3",
   "language": "python",
   "name": "python3"
  },
  "language_info": {
   "codemirror_mode": {
    "name": "ipython",
    "version": 3
   },
   "file_extension": ".py",
   "mimetype": "text/x-python",
   "name": "python",
   "nbconvert_exporter": "python",
   "pygments_lexer": "ipython3",
   "version": "3.7.4"
  }
 },
 "nbformat": 4,
 "nbformat_minor": 4
}
